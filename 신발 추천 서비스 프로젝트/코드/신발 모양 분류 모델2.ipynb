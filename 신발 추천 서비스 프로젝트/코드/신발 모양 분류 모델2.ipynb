{
 "cells": [
  {
   "cell_type": "code",
   "execution_count": 1,
   "metadata": {},
   "outputs": [
    {
     "data": {
      "text/plain": [
       "'2.2.4-tf'"
      ]
     },
     "execution_count": 1,
     "metadata": {},
     "output_type": "execute_result"
    }
   ],
   "source": [
    "import tensorflow.keras\n",
    "tensorflow.keras.__version__"
   ]
  },
  {
   "cell_type": "code",
   "execution_count": 2,
   "metadata": {},
   "outputs": [],
   "source": [
    "import os, shutil"
   ]
  },
  {
   "cell_type": "code",
   "execution_count": 3,
   "metadata": {},
   "outputs": [],
   "source": [
    "# 원본 데이터셋을 압축 해제한 디렉터리 경로\n",
    "original_dataset_dir = './shoes_style/boots'\n",
    "original_dataset_dir1 = './shoes_style/hills'\n",
    "original_dataset_dir2 = './shoes_style/ropers'\n",
    "original_dataset_dir3  = './shoes_style/sandals'\n",
    "original_dataset_dir4 = './shoes_style/sneakers'\n",
    "\n",
    "# 소규모 데이터셋을 저장할 디렉터리\n",
    "base_dir = './shoes_train_test_data'\n",
    "if os.path.exists(base_dir): \n",
    "    shutil.rmtree(base_dir)   \n",
    "os.mkdir(base_dir)\n",
    "\n",
    "# 훈련, 검증, 테스트 분할을 위한 디렉터리\n",
    "train_dir = os.path.join(base_dir, 'train')\n",
    "os.mkdir(train_dir)\n",
    "validation_dir = os.path.join(base_dir, 'validation')\n",
    "os.mkdir(validation_dir)\n",
    "test_dir = os.path.join(base_dir, 'test')\n",
    "os.mkdir(test_dir)\n",
    "\n",
    "\n",
    "# 훈련용 부츠 사진 디렉터리\n",
    "train_boots_dir = os.path.join(train_dir, 'boots')\n",
    "os.mkdir(train_boots_dir)\n",
    "# 훈련용 힐 사진 디렉터리\n",
    "train_hills_dir = os.path.join(train_dir, 'hills')\n",
    "os.mkdir(train_hills_dir)\n",
    "\n",
    "# 훈련용 로퍼 사진 디렉터리\n",
    "train_roper_dir = os.path.join(train_dir, 'roper')\n",
    "os.mkdir(train_roper_dir)\n",
    "\n",
    "# 훈련용 샌들 사진 디렉터리\n",
    "train_sandals_dir = os.path.join(train_dir, 'sandals')\n",
    "os.mkdir(train_sandals_dir)\n",
    "\n",
    "# 훈련용 운동화 사진 디렉터리\n",
    "train_sneakers_dir = os.path.join(train_dir, 'sneakers')\n",
    "os.mkdir(train_sneakers_dir)\n",
    "\n",
    "\n",
    "# 검증용 부츠 사진 디렉터리\n",
    "validation_boots_dir = os.path.join(validation_dir, 'boots')\n",
    "os.mkdir(validation_boots_dir)\n",
    "# 검증용 힐 사진 디렉터리\n",
    "validation_hills_dir = os.path.join(validation_dir, 'hills')\n",
    "os.mkdir(validation_hills_dir)\n",
    "\n",
    "\n",
    "# 검증용 로퍼 사진 디렉터리\n",
    "validation_roper_dir = os.path.join(validation_dir, 'roper')\n",
    "os.mkdir(validation_roper_dir)\n",
    "\n",
    "# 검증용 샌들 사진 디렉터리\n",
    "validation_sandals_dir = os.path.join(validation_dir, 'sandals')\n",
    "os.mkdir(validation_sandals_dir)\n",
    "\n",
    "# 검증용 운동화 사진 디렉터리\n",
    "validation_sneakers_dir = os.path.join(validation_dir, 'sneakers')\n",
    "os.mkdir(validation_sneakers_dir)\n",
    "\n",
    "# 테스트용 부츠 사진 디렉터리\n",
    "test_boots_dir = os.path.join(test_dir, 'boots')\n",
    "os.mkdir(test_boots_dir)\n",
    "\n",
    "\n",
    "# 테스트용 힐 사진 디렉터리\n",
    "test_hills_dir = os.path.join(test_dir, 'hills')\n",
    "os.mkdir(test_hills_dir)\n",
    "# 테스트용 로퍼 사진 디렉터리\n",
    "test_roper_dir = os.path.join(test_dir, 'roper')\n",
    "os.mkdir(test_roper_dir)\n",
    "\n",
    "# 테스트용 샌들 사진 디렉터리\n",
    "test_sandals_dir = os.path.join(test_dir, 'sandals')\n",
    "os.mkdir(test_sandals_dir)\n",
    "\n",
    "# 테스트용 운동화 사진 디렉터리\n",
    "test_sneakers_dir = os.path.join(test_dir, 'sneakers')\n",
    "os.mkdir(test_sneakers_dir)\n",
    "\n",
    "\n",
    "\n",
    "\n",
    "\n",
    "# 처음 700개의 샌들 이미지를 train_cats_dir에 복사합니다\n",
    "fnames = ['{}.jpg'.format(i) for i in range(1000)]\n",
    "for fname in fnames:\n",
    "    src = os.path.join(original_dataset_dir, fname)\n",
    "    dst = os.path.join(train_sandals_dir, fname)\n",
    "    shutil.copyfile(src, dst)\n",
    "\n",
    "# 다음 샌들 이미지를 validation_cats_dir에 복사합니다\n",
    "fnames = ['{}.jpg'.format(i) for i in range(1000, 1300)]\n",
    "for fname in fnames:\n",
    "    src = os.path.join(original_dataset_dir, fname)\n",
    "    dst = os.path.join(validation_sandals_dir, fname)\n",
    "    shutil.copyfile(src, dst)\n",
    "    \n",
    "# 다음 샌들 이미지를 test_cats_dir에 복사합니다\n",
    "fnames = ['{}.jpg'.format(i) for i in range(1300, 1660)]\n",
    "for fname in fnames:\n",
    "    src = os.path.join(original_dataset_dir, fname)\n",
    "    dst = os.path.join(test_sandals_dir, fname)\n",
    "    shutil.copyfile(src, dst)\n",
    "    \n",
    "     \n",
    "# 운동화 이미지를 train_dogs_dir에 복사합니다\n",
    "fnames = ['{}.jpg'.format(i) for i in range(1000)]\n",
    "for fname in fnames:\n",
    "    src = os.path.join(original_dataset_dir4, fname)\n",
    "    dst = os.path.join(train_sneakers_dir, fname)\n",
    "    shutil.copyfile(src, dst)\n",
    "    \n",
    "# 운동화 이미지를 validation_sneakers_dir에 복사합니다\n",
    "fnames = ['{}.jpg'.format(i) for i in range(1000, 1300)]\n",
    "for fname in fnames:\n",
    "    src = os.path.join(original_dataset_dir4, fname)\n",
    "    dst = os.path.join(validation_sneakers_dir, fname)\n",
    "    shutil.copyfile(src, dst)\n",
    "    \n",
    "# 운동화 이미지를 test_sneakers_dir에 복사합니다\n",
    "fnames = ['{}.jpg'.format(i) for i in range(1300, 1660)]\n",
    "for fname in fnames:\n",
    "    src = os.path.join(original_dataset_dir4, fname)\n",
    "    dst = os.path.join(test_sneakers_dir, fname)\n",
    "    shutil.copyfile(src, dst)\n",
    "    \n",
    "# 로퍼 이미지를 train_roper_dir에 복사합니다\n",
    "fnames = ['{}.jpg'.format(i) for i in range(1000)]\n",
    "for fname in fnames:\n",
    "    src = os.path.join(original_dataset_dir2, fname)\n",
    "    dst = os.path.join(train_roper_dir, fname)\n",
    "    shutil.copyfile(src, dst)\n",
    "\n",
    "# 다음 로퍼 이미지를 validation_roper_dir에 복사합니다\n",
    "fnames = ['{}.jpg'.format(i) for i in range(1000, 1300)]\n",
    "for fname in fnames:\n",
    "    src = os.path.join(original_dataset_dir2, fname)\n",
    "    dst = os.path.join(validation_roper_dir, fname)\n",
    "    shutil.copyfile(src, dst)\n",
    "    \n",
    "# 다음 로퍼 이미지를 test_roper_dir에 복사합니다\n",
    "fnames = ['{}.jpg'.format(i) for i in range(1300, 1660)]\n",
    "for fname in fnames:\n",
    "    src = os.path.join(original_dataset_dir2, fname)\n",
    "    dst = os.path.join(test_roper_dir, fname)\n",
    "    shutil.copyfile(src, dst)\n",
    "    \n",
    "# 처음 힐 이미지를 train_hills_dir에 복사합니다\n",
    "fnames = ['{}.jpg'.format(i) for i in range(1000)]\n",
    "for fname in fnames:\n",
    "    src = os.path.join(original_dataset_dir1, fname)\n",
    "    dst = os.path.join(train_hills_dir, fname)\n",
    "    shutil.copyfile(src, dst)\n",
    "    \n",
    "# 다음 힐 이미지를 validation_hills_dir에 복사합니다\n",
    "fnames = ['{}.jpg'.format(i) for i in range(1000,1300)]\n",
    "for fname in fnames:\n",
    "    src = os.path.join(original_dataset_dir1, fname)\n",
    "    dst = os.path.join(validation_hills_dir, fname)\n",
    "    shutil.copyfile(src, dst)\n",
    "    \n",
    "# 다음 힐 이미지를 test_hills_dir에 복사합니다\n",
    "fnames = ['{}.jpg'.format(i) for i in range(1300,1660)]\n",
    "for fname in fnames:\n",
    "    src = os.path.join(original_dataset_dir1, fname)\n",
    "    dst = os.path.join(test_hills_dir, fname)\n",
    "    shutil.copyfile(src, dst)\n",
    "    \n",
    "# 처음 부츠 이미지를 train_roper_dir에 복사합니다\n",
    "fnames = ['{}.jpg'.format(i) for i in range(1000)]\n",
    "for fname in fnames:\n",
    "    src = os.path.join(original_dataset_dir3, fname)\n",
    "    dst = os.path.join(train_boots_dir, fname)\n",
    "    shutil.copyfile(src, dst)\n",
    "    \n",
    "# 부츠 이미지를 validation_roper_dir에 복사합니다\n",
    "fnames = ['{}.jpg'.format(i) for i in range(1000, 1300)]\n",
    "for fname in fnames:\n",
    "    src = os.path.join(original_dataset_dir3, fname)\n",
    "    dst = os.path.join(validation_boots_dir, fname)\n",
    "    shutil.copyfile(src, dst)\n",
    "\n",
    "# 부츠 이미지를 test_dogs_dir에 복사합니다\n",
    "fnames = ['{}.jpg'.format(i) for i in range(1300, 1660)]\n",
    "for fname in fnames:\n",
    "    src = os.path.join(original_dataset_dir3, fname)\n",
    "    dst = os.path.join(test_boots_dir, fname)\n",
    "    shutil.copyfile(src, dst)"
   ]
  },
  {
   "cell_type": "markdown",
   "metadata": {},
   "source": [
    "## CNN모델 학습"
   ]
  },
  {
   "cell_type": "code",
   "execution_count": 1,
   "metadata": {},
   "outputs": [],
   "source": [
    "#########################모델 생성##################################################\n",
    "from tensorflow.keras import layers\n",
    "from tensorflow.keras import models\n",
    "\n",
    "model = models.Sequential()\n",
    "model.add(layers.Conv2D(32, (3, 3), activation='relu',\n",
    "                        input_shape=(150,150,3)))\n",
    "model.add(layers.MaxPooling2D((2, 2)))\n",
    "model.add(layers.Conv2D(64, (3, 3), activation='relu'))\n",
    "model.add(layers.MaxPooling2D((2, 2)))\n",
    "model.add(layers.Conv2D(128, (3, 3), activation='relu'))\n",
    "model.add(layers.MaxPooling2D((2, 2)))\n",
    "model.add(layers.Conv2D(128, (3, 3), activation='relu'))\n",
    "model.add(layers.MaxPooling2D((2, 2)))\n",
    "model.add(layers.Flatten())\n",
    "model.add(layers.Dense(512, activation='relu'))\n",
    "model.add(layers.Dense(5, activation='softmax'))"
   ]
  },
  {
   "cell_type": "code",
   "execution_count": null,
   "metadata": {},
   "outputs": [],
   "source": []
  },
  {
   "cell_type": "code",
   "execution_count": 2,
   "metadata": {},
   "outputs": [],
   "source": [
    "from tensorflow.keras import optimizers\n",
    "\n",
    "model.compile(loss='binary_crossentropy',\n",
    "              optimizer=optimizers.RMSprop(lr=1e-4),\n",
    "              metrics=['acc'])"
   ]
  },
  {
   "cell_type": "code",
   "execution_count": 6,
   "metadata": {},
   "outputs": [
    {
     "name": "stdout",
     "output_type": "stream",
     "text": [
      "Found 5000 images belonging to 5 classes.\n",
      "Found 1500 images belonging to 5 classes.\n"
     ]
    }
   ],
   "source": [
    "from tensorflow.keras.preprocessing.image import ImageDataGenerator\n",
    "\n",
    "# 모든 이미지를 1/255로 스케일을 조정합니다\n",
    "train_datagen=ImageDataGenerator(rescale=1./255)\n",
    "test_datagen=ImageDataGenerator(rescale=1./255)\n",
    "\n",
    "train_generator=train_datagen.flow_from_directory(\n",
    "# 타깃 디렉토리\n",
    "train_dir,\n",
    "# 모든 이미지를 150 * 150 크기로 바꿉니다\n",
    "target_size=(150,150),\n",
    "batch_size=20,\n",
    "# binary_crossentropy 손실을 사용하기 때문에 이진 레이블이 필요합니다\n",
    "class_mode='categorical')\n",
    "\n",
    "validation_generator = test_datagen.flow_from_directory(\n",
    "validation_dir,\n",
    "target_size=(150,150),\n",
    "batch_size=20,\n",
    "class_mode='categorical')"
   ]
  },
  {
   "cell_type": "code",
   "execution_count": 12,
   "metadata": {
    "scrolled": true
   },
   "outputs": [
    {
     "name": "stdout",
     "output_type": "stream",
     "text": [
      "배치 데이터 크기: (20, 150, 150, 3)\n",
      "배치 레이블 크기: (20, 5)\n"
     ]
    }
   ],
   "source": [
    "\n",
    "for data_batch, labels_batch in train_generator:\n",
    "    print('배치 데이터 크기:', data_batch.shape)\n",
    "    print('배치 레이블 크기:', labels_batch.shape)\n",
    "    break"
   ]
  },
  {
   "cell_type": "code",
   "execution_count": 15,
   "metadata": {
    "scrolled": true
   },
   "outputs": [
    {
     "name": "stdout",
     "output_type": "stream",
     "text": [
      "WARNING:tensorflow:sample_weight modes were coerced from\n",
      "  ...\n",
      "    to  \n",
      "  ['...']\n",
      "WARNING:tensorflow:sample_weight modes were coerced from\n",
      "  ...\n",
      "    to  \n",
      "  ['...']\n",
      "Train for 100 steps, validate for 30 steps\n",
      "Epoch 1/10\n",
      "100/100 [==============================] - 133s 1s/step - loss: 0.4613 - acc: 0.8065 - val_loss: 0.4507 - val_acc: 0.8120\n",
      "Epoch 2/10\n",
      "100/100 [==============================] - 118s 1s/step - loss: 0.4003 - acc: 0.8280 - val_loss: 0.4191 - val_acc: 0.8203\n",
      "Epoch 3/10\n",
      "100/100 [==============================] - 113s 1s/step - loss: 0.3785 - acc: 0.8391 - val_loss: 0.4183 - val_acc: 0.8227\n",
      "Epoch 4/10\n",
      "100/100 [==============================] - 114s 1s/step - loss: 0.3469 - acc: 0.8554 - val_loss: 0.4034 - val_acc: 0.8357\n",
      "Epoch 5/10\n",
      "100/100 [==============================] - 116s 1s/step - loss: 0.3270 - acc: 0.8609 - val_loss: 0.3801 - val_acc: 0.8403\n",
      "Epoch 6/10\n",
      "100/100 [==============================] - 116s 1s/step - loss: 0.2933 - acc: 0.8778 - val_loss: 0.3739 - val_acc: 0.8420\n",
      "Epoch 7/10\n",
      "100/100 [==============================] - 116s 1s/step - loss: 0.2896 - acc: 0.8778 - val_loss: 0.3798 - val_acc: 0.8407\n",
      "Epoch 8/10\n",
      "100/100 [==============================] - 117s 1s/step - loss: 0.2756 - acc: 0.8835 - val_loss: 0.3529 - val_acc: 0.8453\n",
      "Epoch 9/10\n",
      "100/100 [==============================] - 115s 1s/step - loss: 0.2578 - acc: 0.8927 - val_loss: 0.3480 - val_acc: 0.8510\n",
      "Epoch 10/10\n",
      "100/100 [==============================] - 116s 1s/step - loss: 0.2431 - acc: 0.9026 - val_loss: 0.4118 - val_acc: 0.8313\n"
     ]
    }
   ],
   "source": [
    "history=model.fit_generator(\n",
    "    train_generator,\n",
    "    steps_per_epoch=100,\n",
    "    epochs=10,\n",
    "    validation_data=validation_generator,\n",
    "    validation_steps=30)"
   ]
  },
  {
   "cell_type": "code",
   "execution_count": 20,
   "metadata": {
    "scrolled": true
   },
   "outputs": [
    {
     "data": {
      "image/png": "[encoded data removed]",
      "text/plain": [
       "<Figure size 432x288 with 1 Axes>"
      ]
     },
     "metadata": {
      "needs_background": "light"
     },
     "output_type": "display_data"
    },
    {
     "data": {
      "image/png": "[encoded data removed]",
      "text/plain": [
       "<Figure size 432x288 with 1 Axes>"
      ]
     },
     "metadata": {
      "needs_background": "light"
     },
     "output_type": "display_data"
    }
   ],
   "source": [
    "import matplotlib.pyplot as plt\n",
    "\n",
    "acc = history.history['acc']\n",
    "val_acc = history.history['val_acc']\n",
    "loss = history.history['loss']\n",
    "val_loss = history.history['val_loss']\n",
    "\n",
    "epochs = range(len(acc))\n",
    "\n",
    "plt.plot(epochs, acc, 'bo', label='Training acc')\n",
    "plt.plot(epochs, val_acc, 'b', label='Validation acc')\n",
    "plt.title('Training and validation accuracy')\n",
    "plt.legend()\n",
    "\n",
    "plt.figure()\n",
    "\n",
    "plt.plot(epochs, loss, 'bo', label='Training loss')\n",
    "plt.plot(epochs, val_loss, 'b', label='Validation loss')\n",
    "plt.title('Training and validation loss')\n",
    "plt.legend()\n",
    "\n",
    "plt.show()"
   ]
  },
  {
   "cell_type": "code",
   "execution_count": 21,
   "metadata": {},
   "outputs": [],
   "source": [
    "model.save('cnn_shape.h5')"
   ]
  },
  {
   "cell_type": "code",
   "execution_count": 16,
   "metadata": {},
   "outputs": [],
   "source": [
    "model = load_model('cnn_shape.h5')"
   ]
  },
  {
   "cell_type": "code",
   "execution_count": 18,
   "metadata": {},
   "outputs": [
    {
     "name": "stdout",
     "output_type": "stream",
     "text": [
      "Found 1800 images belonging to 5 classes.\n",
      "WARNING:tensorflow:sample_weight modes were coerced from\n",
      "  ...\n",
      "    to  \n",
      "  ['...']\n",
      "test acc: 0.8359999\n"
     ]
    }
   ],
   "source": [
    "#####################테스트 결과 정확성\n",
    "\n",
    "test_generator = test_datagen.flow_from_directory(\n",
    "        test_dir,\n",
    "        target_size=(150, 150),\n",
    "        batch_size=20,\n",
    "        class_mode='categorical')\n",
    "\n",
    "test_loss, test_acc = model.evaluate_generator(test_generator, steps=20)\n",
    "print('test acc:', test_acc)"
   ]
  },
  {
   "cell_type": "markdown",
   "metadata": {},
   "source": [
    "## VGG16모델 학습"
   ]
  },
  {
   "cell_type": "code",
   "execution_count": 7,
   "metadata": {},
   "outputs": [
    {
     "name": "stdout",
     "output_type": "stream",
     "text": [
      "WARNING:tensorflow:From <ipython-input-7-8e93bd6d5c35>:25: Model.fit_generator (from tensorflow.python.keras.engine.training) is deprecated and will be removed in a future version.\n",
      "Instructions for updating:\n",
      "Please use Model.fit, which supports generators.\n",
      "WARNING:tensorflow:sample_weight modes were coerced from\n",
      "  ...\n",
      "    to  \n",
      "  ['...']\n",
      "WARNING:tensorflow:sample_weight modes were coerced from\n",
      "  ...\n",
      "    to  \n",
      "  ['...']\n",
      "Train for 100 steps, validate for 30 steps\n",
      "Epoch 1/10\n",
      "100/100 [==============================] - 181s 2s/step - loss: 0.3658 - accuracy: 0.8738 - val_loss: 0.2610 - val_accuracy: 0.8900\n",
      "Epoch 2/10\n",
      "100/100 [==============================] - 176s 2s/step - loss: 0.1856 - accuracy: 0.9250 - val_loss: 0.2577 - val_accuracy: 0.8993\n",
      "Epoch 3/10\n",
      "100/100 [==============================] - 176s 2s/step - loss: 0.1590 - accuracy: 0.9372 - val_loss: 0.3152 - val_accuracy: 0.8803\n",
      "Epoch 4/10\n",
      "100/100 [==============================] - 176s 2s/step - loss: 0.1235 - accuracy: 0.9535 - val_loss: 0.2886 - val_accuracy: 0.8950\n",
      "Epoch 5/10\n",
      "100/100 [==============================] - 191s 2s/step - loss: 0.1254 - accuracy: 0.9498 - val_loss: 0.3013 - val_accuracy: 0.8970\n",
      "Epoch 6/10\n",
      "100/100 [==============================] - 190s 2s/step - loss: 0.1077 - accuracy: 0.9607 - val_loss: 0.3871 - val_accuracy: 0.8603\n",
      "Epoch 7/10\n",
      "100/100 [==============================] - 187s 2s/step - loss: 0.0879 - accuracy: 0.9679 - val_loss: 0.2744 - val_accuracy: 0.9017\n",
      "Epoch 8/10\n",
      "100/100 [==============================] - 185s 2s/step - loss: 0.0725 - accuracy: 0.9741 - val_loss: 0.2697 - val_accuracy: 0.9063\n",
      "Epoch 9/10\n",
      "100/100 [==============================] - 185s 2s/step - loss: 0.0718 - accuracy: 0.9739 - val_loss: 0.2539 - val_accuracy: 0.9137\n",
      "Epoch 10/10\n",
      "100/100 [==============================] - 179s 2s/step - loss: 0.0696 - accuracy: 0.9740 - val_loss: 0.2674 - val_accuracy: 0.9157\n"
     ]
    }
   ],
   "source": [
    "########################### VGG16모델 (훈련된 컨벌루션 신경망)\n",
    "from tensorflow.keras.models import Sequential\n",
    "from tensorflow.keras.layers import Dense, Activation, Flatten\n",
    "from tensorflow.keras.applications import VGG16\n",
    " \n",
    "\n",
    "transfer_model = VGG16(weights='imagenet', include_top=False, input_shape=(150, 150, 3))\n",
    "transfer_model.trainable=False\n",
    "\n",
    "model_tr = models.Sequential([\n",
    "    transfer_model, \n",
    "    Flatten(), \n",
    "    Dense(512, activation='relu'),\n",
    "    Dense(5,activation='softmax')\n",
    "    #Dense(1, 'sigmoid') 정확도 0.75.\n",
    "])\n",
    "\n",
    "model_tr.compile(optimizer='adam', loss='binary_crossentropy', metrics=['accuracy'])\n",
    "\n",
    "transfer_history = model_tr.fit_generator(\n",
    "    train_generator,\n",
    "    steps_per_epoch=100,\n",
    "    epochs=10,\n",
    "    validation_data=validation_generator,\n",
    "    validation_steps=30)\n",
    "                            "
   ]
  },
  {
   "cell_type": "code",
   "execution_count": 8,
   "metadata": {},
   "outputs": [],
   "source": [
    "model_tr.save('cnn_shape_vgg.h5')"
   ]
  },
  {
   "cell_type": "code",
   "execution_count": 11,
   "metadata": {
    "scrolled": true
   },
   "outputs": [
    {
     "data": {
      "image/png": "[encoded data removed]",
      "text/plain": [
       "<Figure size 432x288 with 1 Axes>"
      ]
     },
     "metadata": {
      "needs_background": "light"
     },
     "output_type": "display_data"
    },
    {
     "data": {
      "image/png": "[encoded data removed]",
      "text/plain": [
       "<Figure size 432x288 with 1 Axes>"
      ]
     },
     "metadata": {
      "needs_background": "light"
     },
     "output_type": "display_data"
    }
   ],
   "source": [
    "####################모델 정확도\n",
    "import matplotlib.pyplot as plt\n",
    "\n",
    "acc = transfer_history.history['accuracy']\n",
    "val_acc = transfer_history.history['val_accuracy']\n",
    "loss = transfer_history.history['loss']\n",
    "val_loss = transfer_history.history['val_loss']\n",
    "\n",
    "epochs = range(len(acc))\n",
    "\n",
    "plt.plot(epochs, acc, 'bo', label='Training acc')\n",
    "plt.plot(epochs, val_acc, 'b', label='Validation acc')\n",
    "plt.title('Training and validation accuracy')\n",
    "plt.legend()\n",
    "\n",
    "plt.figure()\n",
    "\n",
    "plt.plot(epochs, loss, 'bo', label='Training loss')\n",
    "plt.plot(epochs, val_loss, 'b', label='Validation loss')\n",
    "plt.title('Training and validation loss')\n",
    "plt.legend()\n",
    "\n",
    "plt.show()"
   ]
  },
  {
   "cell_type": "code",
   "execution_count": 15,
   "metadata": {},
   "outputs": [
    {
     "name": "stdout",
     "output_type": "stream",
     "text": [
      "Found 1800 images belonging to 5 classes.\n",
      "WARNING:tensorflow:From <ipython-input-15-a01576e84a05>:9: Model.evaluate_generator (from tensorflow.python.keras.engine.training) is deprecated and will be removed in a future version.\n",
      "Instructions for updating:\n",
      "Please use Model.evaluate, which supports generators.\n",
      "WARNING:tensorflow:sample_weight modes were coerced from\n",
      "  ...\n",
      "    to  \n",
      "  ['...']\n",
      "test acc: 0.90699995\n"
     ]
    }
   ],
   "source": [
    "#####################테스트 결과 정확성\n",
    "\n",
    "test_generator = test_datagen.flow_from_directory(\n",
    "        test_dir,\n",
    "        target_size=(150, 150),\n",
    "        batch_size=20,\n",
    "        class_mode='categorical')\n",
    "\n",
    "test_loss, test_acc = model_tr.evaluate_generator(test_generator, steps=20)\n",
    "print('test acc:', test_acc)"
   ]
  },
  {
   "cell_type": "code",
   "execution_count": 19,
   "metadata": {},
   "outputs": [],
   "source": [
    "from tensorflow.keras.models import load_model\n",
    "\n",
    "model = load_model('cnn_shape_vgg.h5')"
   ]
  },
  {
   "cell_type": "code",
   "execution_count": 20,
   "metadata": {},
   "outputs": [
    {
     "name": "stdout",
     "output_type": "stream",
     "text": [
      "Found 1800 images belonging to 5 classes.\n",
      "WARNING:tensorflow:sample_weight modes were coerced from\n",
      "  ...\n",
      "    to  \n",
      "  ['...']\n",
      "test acc: 0.90849996\n"
     ]
    }
   ],
   "source": [
    "#####################테스트 결과 정확성\n",
    "\n",
    "test_generator = test_datagen.flow_from_directory(\n",
    "        test_dir,\n",
    "        target_size=(150, 150),\n",
    "        batch_size=20,\n",
    "        class_mode='categorical')\n",
    "\n",
    "test_loss, test_acc = model.evaluate_generator(test_generator, steps=20)\n",
    "print('test acc:', test_acc)"
   ]
  },
  {
   "cell_type": "code",
   "execution_count": null,
   "metadata": {},
   "outputs": [],
   "source": []
  }
 ],
 "metadata": {
  "kernelspec": {
   "display_name": "Python 3",
   "language": "python",
   "name": "python3"
  },
  "language_info": {
   "codemirror_mode": {
    "name": "ipython",
    "version": 3
   },
   "file_extension": ".py",
   "mimetype": "text/x-python",
   "name": "python",
   "nbconvert_exporter": "python",
   "pygments_lexer": "ipython3",
   "version": "3.7.6"
  }
 },
 "nbformat": 4,
 "nbformat_minor": 4
}
